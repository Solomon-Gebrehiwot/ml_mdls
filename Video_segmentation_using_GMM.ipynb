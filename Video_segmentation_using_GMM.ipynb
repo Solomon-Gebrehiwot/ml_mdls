{
  "cells": [
    {
      "cell_type": "markdown",
      "metadata": {
        "id": "view-in-github",
        "colab_type": "text"
      },
      "source": [
        "<a href=\"https://colab.research.google.com/github/Solomon-Gebrehiwot/ml_mdls/blob/main/Video_segmentation_using_GMM.ipynb\" target=\"_parent\"><img src=\"https://colab.research.google.com/assets/colab-badge.svg\" alt=\"Open In Colab\"/></a>"
      ]
    },
    {
      "cell_type": "code",
      "execution_count": null,
      "metadata": {
        "colab": {
          "background_save": true,
          "base_uri": "https://localhost:8080/",
          "height": 1000
        },
        "id": "k11k64gNhiKU",
        "outputId": "f4bcdb5d-e8aa-4d3b-83b4-d82201c8ad55"
      },
      "outputs": [],
      "source": [
        "import cv2\n",
        "import numpy as np\n",
        "from google.colab.patches import cv2_imshow\n",
        "\n",
        "# Load video\n",
        "cap = cv2.VideoCapture('/content/Automated_car_factory.mp4')\n",
        "\n",
        "# Create the GMM-based background subtractor\n",
        "gmm = cv2.createBackgroundSubtractorMOG2(history=500, varThreshold=25, detectShadows=True)\n",
        "\n",
        "while cap.isOpened():\n",
        "    ret, frame = cap.read()\n",
        "    if not ret:\n",
        "        break\n",
        "\n",
        "    # Apply the GMM to get the foreground mask\n",
        "    fgmask = gmm.apply(frame)\n",
        "\n",
        "    # Optional: refine mask\n",
        "    kernel = cv2.getStructuringElement(cv2.MORPH_ELLIPSE, (5,5))\n",
        "    fgmask = cv2.morphologyEx(fgmask, cv2.MORPH_OPEN, kernel)\n",
        "\n",
        "    # Visualize\n",
        "    # Replace cv2.imshow with cv2_imshow for compatibility with Google Colab\n",
        "    cv2_imshow(fgmask)\n",
        "    cv2_imshow(frame)\n",
        "\n",
        "    # The waitKey and destroyAllWindows are still necessary for controlling the display in a typical OpenCV loop,\n",
        "    # but their behavior might be slightly different in Colab compared to a standard desktop environment.\n",
        "    # cv2.waitKey is generally not effective for controlling the display timing when using cv2_imshow.\n",
        "    # Instead, you might need to manually control the display loop or consider other methods\n",
        "    # for showing frames at a specific rate if precise timing is critical.\n",
        "    # For simple display, removing the waitKey and break condition related to it is an option,\n",
        "    # but this will display all frames without waiting for a key press.\n",
        "    # If you want to see each frame sequentially, you might need to add a small delay\n",
        "    # using time.sleep() and remove the waitKey/break condition.\n",
        "    # For now, we will keep the waitKey and break condition, but be aware they may not behave as expected\n",
        "    # in this specific Colab environment with cv2_imshow.\n",
        "    if cv2.waitKey(30) & 0xFF == 27:  # Press ESC to stop (may not work as expected in Colab)\n",
        "        break\n",
        "\n",
        "cap.release()\n",
        "cv2.destroyAllWindows()"
      ]
    },
    {
      "cell_type": "code",
      "execution_count": null,
      "metadata": {
        "id": "Nyx76QCciif3"
      },
      "outputs": [],
      "source": []
    }
  ],
  "metadata": {
    "colab": {
      "provenance": [],
      "authorship_tag": "ABX9TyNq5XwLTXY5ALnlOUV3vnoB",
      "include_colab_link": true
    },
    "kernelspec": {
      "display_name": "Python 3",
      "name": "python3"
    },
    "language_info": {
      "name": "python"
    }
  },
  "nbformat": 4,
  "nbformat_minor": 0
}