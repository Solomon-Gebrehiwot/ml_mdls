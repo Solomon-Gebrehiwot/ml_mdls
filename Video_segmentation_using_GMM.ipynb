{
  "cells": [
    {
      "cell_type": "markdown",
      "metadata": {
        "id": "view-in-github",
        "colab_type": "text"
      },
      "source": [
        "<a href=\"https://colab.research.google.com/github/Solomon-Gebrehiwot/ml_mdls/blob/main/Video_segmentation_using_GMM.ipynb\" target=\"_parent\"><img src=\"https://colab.research.google.com/assets/colab-badge.svg\" alt=\"Open In Colab\"/></a>"
      ]
    },
    {
      "cell_type": "code",
      "execution_count": 3,
      "metadata": {
        "id": "k11k64gNhiKU"
      },
      "outputs": [],
      "source": [
        "import cv2\n",
        "import numpy as np\n",
        "from google.colab.patches import cv2_imshow\n",
        "\n",
        "# Load video\n",
        "cap = cv2.VideoCapture('/content/Automated_car_factory.mp4')\n",
        "\n",
        "# Create the GMM-based background subtractor\n",
        "gmm = cv2.createBackgroundSubtractorMOG2(history=500, varThreshold=25, detectShadows=True)\n",
        "\n",
        "while cap.isOpened():\n",
        "    ret, frame = cap.read()\n",
        "    if not ret:\n",
        "        break\n",
        "\n",
        "    # Apply the GMM to get the foreground mask\n",
        "    fgmask = gmm.apply(frame)\n",
        "\n",
        "    # refine mask\n",
        "    kernel = cv2.getStructuringElement(cv2.MORPH_ELLIPSE, (5,5))\n",
        "    fgmask = cv2.morphologyEx(fgmask, cv2.MORPH_OPEN, kernel)\n",
        "\n",
        "    # Visualize\n",
        "    cv2_imshow(fgmask)\n",
        "    cv2_imshow(frame)\n",
        "\n",
        "    if cv2.waitKey(30) & 0xFF == 27:\n",
        "        break\n",
        "\n",
        "cap.release()\n",
        "cv2.destroyAllWindows()"
      ]
    },
    {
      "cell_type": "code",
      "execution_count": null,
      "metadata": {
        "id": "Nyx76QCciif3"
      },
      "outputs": [],
      "source": []
    }
  ],
  "metadata": {
    "colab": {
      "provenance": [],
      "authorship_tag": "ABX9TyPzdgvXdRJx22tljdvo14Xt",
      "include_colab_link": true
    },
    "kernelspec": {
      "display_name": "Python 3",
      "name": "python3"
    },
    "language_info": {
      "name": "python"
    }
  },
  "nbformat": 4,
  "nbformat_minor": 0
}